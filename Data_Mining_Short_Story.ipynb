{
  "nbformat": 4,
  "nbformat_minor": 0,
  "metadata": {
    "colab": {
      "name": "Data Mining Short Story",
      "provenance": [],
      "collapsed_sections": [
        "-SqQX5uqN7-7",
        "GGCQSXQ-5tsR",
        "FZzE9NONCk_I",
        "bVFZQDg7DJml",
        "JsxDntKfEAIo",
        "xxuu1RdZGjm8"
      ],
      "include_colab_link": true
    },
    "kernelspec": {
      "name": "python3",
      "display_name": "Python 3"
    },
    "language_info": {
      "name": "python"
    }
  },
  "cells": [
    {
      "cell_type": "markdown",
      "metadata": {
        "id": "view-in-github",
        "colab_type": "text"
      },
      "source": [
        "<a href=\"https://colab.research.google.com/github/sololeveler/cmpe255-short-story/blob/master/Data_Mining_Short_Story.ipynb\" target=\"_parent\"><img src=\"https://colab.research.google.com/assets/colab-badge.svg\" alt=\"Open In Colab\"/></a>"
      ]
    },
    {
      "cell_type": "markdown",
      "metadata": {
        "id": "KJoydtkTMUzH"
      },
      "source": [
        "##Content\n",
        "\n",
        "1.   [Data Selection and Preprocessing / Cleaning](https://colab.research.google.com/drive/1JDUR1ldppSoD-cc3woAKdCO3UpuqTQFY?authuser=1#scrollTo=HXn5nk2-ELPZ&line=1&uniqifier=1)\n",
        "2.   [Data Transformation / Feature Engineering](https://colab.research.google.com/drive/1JDUR1ldppSoD-cc3woAKdCO3UpuqTQFY?authuser=1#scrollTo=AuCidc7iDSSU)\n",
        "3.  [Model Selection and Training](https://colab.research.google.com/drive/1JDUR1ldppSoD-cc3woAKdCO3UpuqTQFY?authuser=1#scrollTo=JsxDntKfEAIo&line=1&uniqifier=1)\n",
        "\n"
      ]
    },
    {
      "cell_type": "markdown",
      "metadata": {
        "id": "HXn5nk2-ELPZ"
      },
      "source": [
        "##**Data Selection and Preprocessing/Cleaning**"
      ]
    },
    {
      "cell_type": "markdown",
      "metadata": {
        "id": "-SqQX5uqN7-7"
      },
      "source": [
        "####Importing datasets to local environment and installing additional required libraries"
      ]
    },
    {
      "cell_type": "code",
      "metadata": {
        "id": "3sXwgQnoN7I9",
        "colab": {
          "base_uri": "https://localhost:8080/"
        },
        "outputId": "ee77410f-2ca4-4c8a-d6b3-28d4a86214a9"
      },
      "source": [
        "!pip install dnspython tldextract\n",
        "!wget https://raw.githubusercontent.com/mitchellkrogza/Phishing.Database/master/ALL-phishing-links.tar.gz\n",
        "# !wget https://phishstats.info/phish_score.csv\n",
        "# !wget https://data.mendeley.com/public-files/datasets/72ptz43s9v/files/26197eb8-15bc-4e06-a269-aa10ddc286f0/file_downloaded"
      ],
      "execution_count": null,
      "outputs": [
        {
          "output_type": "stream",
          "name": "stdout",
          "text": [
            "Requirement already satisfied: dnspython in /usr/local/lib/python3.7/dist-packages (2.1.0)\n",
            "Requirement already satisfied: tldextract in /usr/local/lib/python3.7/dist-packages (3.1.2)\n",
            "Requirement already satisfied: filelock>=3.0.8 in /usr/local/lib/python3.7/dist-packages (from tldextract) (3.4.0)\n",
            "Requirement already satisfied: requests>=2.1.0 in /usr/local/lib/python3.7/dist-packages (from tldextract) (2.23.0)\n",
            "Requirement already satisfied: idna in /usr/local/lib/python3.7/dist-packages (from tldextract) (2.10)\n",
            "Requirement already satisfied: requests-file>=1.4 in /usr/local/lib/python3.7/dist-packages (from tldextract) (1.5.1)\n",
            "Requirement already satisfied: certifi>=2017.4.17 in /usr/local/lib/python3.7/dist-packages (from requests>=2.1.0->tldextract) (2021.10.8)\n",
            "Requirement already satisfied: urllib3!=1.25.0,!=1.25.1,<1.26,>=1.21.1 in /usr/local/lib/python3.7/dist-packages (from requests>=2.1.0->tldextract) (1.24.3)\n",
            "Requirement already satisfied: chardet<4,>=3.0.2 in /usr/local/lib/python3.7/dist-packages (from requests>=2.1.0->tldextract) (3.0.4)\n",
            "Requirement already satisfied: six in /usr/local/lib/python3.7/dist-packages (from requests-file>=1.4->tldextract) (1.15.0)\n",
            "--2021-12-01 02:32:10--  https://raw.githubusercontent.com/mitchellkrogza/Phishing.Database/master/ALL-phishing-links.tar.gz\n",
            "Resolving raw.githubusercontent.com (raw.githubusercontent.com)... 185.199.108.133, 185.199.110.133, 185.199.111.133, ...\n",
            "Connecting to raw.githubusercontent.com (raw.githubusercontent.com)|185.199.108.133|:443... connected.\n",
            "HTTP request sent, awaiting response... 200 OK\n",
            "Length: 16156650 (15M) [application/octet-stream]\n",
            "Saving to: ‘ALL-phishing-links.tar.gz.2’\n",
            "\n",
            "ALL-phishing-links. 100%[===================>]  15.41M  --.-KB/s    in 0.1s    \n",
            "\n",
            "2021-12-01 02:32:10 (123 MB/s) - ‘ALL-phishing-links.tar.gz.2’ saved [16156650/16156650]\n",
            "\n"
          ]
        }
      ]
    },
    {
      "cell_type": "code",
      "metadata": {
        "id": "wQ_cO9_8_hMz",
        "colab": {
          "base_uri": "https://localhost:8080/"
        },
        "outputId": "cfa9a4cc-a6a2-49c4-ddf2-74f5eb3332f8"
      },
      "source": [
        "from google.colab import drive\n",
        "drive.mount('/content/drive')\n",
        "%cd /content/drive/MyDrive/Colab\\ Notebooks/GitHub/CMPE\\ 256\\ Final\\ Project"
      ],
      "execution_count": null,
      "outputs": [
        {
          "output_type": "stream",
          "name": "stdout",
          "text": [
            "Drive already mounted at /content/drive; to attempt to forcibly remount, call drive.mount(\"/content/drive\", force_remount=True).\n",
            "/content/drive/MyDrive/Colab Notebooks/GitHub/CMPE 256 Final Project\n"
          ]
        }
      ]
    },
    {
      "cell_type": "markdown",
      "metadata": {
        "id": "GGCQSXQ-5tsR"
      },
      "source": [
        "####Importing *all* required libraries as per the requirements"
      ]
    },
    {
      "cell_type": "code",
      "metadata": {
        "id": "9RouT83vN4Oj"
      },
      "source": [
        "#For dataset's preprocessing\n",
        "import tarfile\n",
        "import pandas as pd\n",
        "import numpy as np\n",
        "\n",
        "#For feature engineering\n",
        "import tldextract \n",
        "import urllib.parse as parser\n",
        "import dns.resolver as dns\n",
        "import time"
      ],
      "execution_count": null,
      "outputs": []
    },
    {
      "cell_type": "markdown",
      "metadata": {
        "id": "UxSvRA2w94hT"
      },
      "source": [
        "####Importing and preprocessing the dataset"
      ]
    },
    {
      "cell_type": "code",
      "metadata": {
        "id": "yeE-XL_HvSeo"
      },
      "source": [
        "def github_data_retrieval(filename):  \n",
        "  file = tarfile.open(\"/content/\"+filename+'.tar.gz')\n",
        "  file.extractall(\"/content/\")\n",
        "  file.close()\n",
        "  # df = pd.read_csv('/content/'+filename+'.txt', delimiter = \"\\n\")\n",
        "  f = open(\"/content/\"+filename+\".txt\", \"r\")\n",
        "  l = f.readlines()\n",
        "  url_dataset = []\n",
        "  url_series = []\n",
        "  unclean_data = []\n",
        "  for i in l:\n",
        "    temp = i.replace(\"\\n\",\"\").split(\",\")\n",
        "    if len(temp) == 8:\n",
        "      # if len(url_dataset) == 9994:\n",
        "        # print(temp)\n",
        "        # print(i)\n",
        "      url_dataset.append(temp)\n",
        "    elif len(temp) == 1:\n",
        "      url_series.append(temp[0])\n",
        "    else:\n",
        "      unclean_data.append(temp)\n",
        "\n",
        "  return pd.DataFrame(url_dataset[:-1],columns=url_dataset[-1]),pd.Series(url_series,name=\"Url\"),l"
      ],
      "execution_count": null,
      "outputs": []
    },
    {
      "cell_type": "code",
      "metadata": {
        "id": "-Roc4g_b-UzN"
      },
      "source": [
        "dataset1,dataset2,raw_dataset = github_data_retrieval(\"ALL-phishing-links\")"
      ],
      "execution_count": null,
      "outputs": []
    },
    {
      "cell_type": "code",
      "metadata": {
        "id": "hKJGjfTC_7cu"
      },
      "source": [
        "#data is stored locally as it is only available on kaggle and thus cannot get downloaded dynamically using wget\n",
        "dir = \"./datasets\"\n",
        "path1 = \"/malicious_url_train_dataset.csv\"\n",
        "path2 = \"/phishing_site_urls.csv\"\n",
        "path3 = \"/combined_dataset.csv\""
      ],
      "execution_count": null,
      "outputs": []
    },
    {
      "cell_type": "code",
      "metadata": {
        "id": "X_hhC9nBOGbU"
      },
      "source": [
        "dataset3 = pd.read_csv(dir+path1,index_col=0)\n",
        "dataset4 = pd.read_csv(dir+path2)\n",
        "dataset5 = pd.read_csv(dir+path3)"
      ],
      "execution_count": null,
      "outputs": []
    },
    {
      "cell_type": "markdown",
      "metadata": {
        "id": "OWdCFhCSLsVj"
      },
      "source": [
        "####Combinining datasets"
      ]
    },
    {
      "cell_type": "code",
      "metadata": {
        "id": "c0gIez4_2YF3",
        "colab": {
          "base_uri": "https://localhost:8080/",
          "height": 143
        },
        "outputId": "37b073b0-b097-4369-fde6-0090bc1f0918"
      },
      "source": [
        "#transforming data to retrieve required format for feature engineering\n",
        "data = [[i,1] for i in dataset1.url] + [[i,1] for i in dataset2] + dataset3[[\"url\",\"result\"]].values.tolist() + dataset4.replace(\"good\",0).replace(\"bad\",1).values.tolist() + dataset5[[\"domain\",\"label\"]].values.tolist()\n",
        "dataset = pd.DataFrame(data,columns=[\"url\",\"label\"])\n",
        "#to check data distribution between malicious/phishing (1) and normal websites (0)\n",
        "dataset.groupby(\"label\").count()"
      ],
      "execution_count": null,
      "outputs": [
        {
          "output_type": "execute_result",
          "data": {
            "text/html": [
              "<div>\n",
              "<style scoped>\n",
              "    .dataframe tbody tr th:only-of-type {\n",
              "        vertical-align: middle;\n",
              "    }\n",
              "\n",
              "    .dataframe tbody tr th {\n",
              "        vertical-align: top;\n",
              "    }\n",
              "\n",
              "    .dataframe thead th {\n",
              "        text-align: right;\n",
              "    }\n",
              "</style>\n",
              "<table border=\"1\" class=\"dataframe\">\n",
              "  <thead>\n",
              "    <tr style=\"text-align: right;\">\n",
              "      <th></th>\n",
              "      <th>url</th>\n",
              "    </tr>\n",
              "    <tr>\n",
              "      <th>label</th>\n",
              "      <th></th>\n",
              "    </tr>\n",
              "  </thead>\n",
              "  <tbody>\n",
              "    <tr>\n",
              "      <th>0</th>\n",
              "      <td>778658</td>\n",
              "    </tr>\n",
              "    <tr>\n",
              "      <th>1</th>\n",
              "      <td>1067154</td>\n",
              "    </tr>\n",
              "  </tbody>\n",
              "</table>\n",
              "</div>"
            ],
            "text/plain": [
              "           url\n",
              "label         \n",
              "0       778658\n",
              "1      1067154"
            ]
          },
          "metadata": {},
          "execution_count": 8
        }
      ]
    },
    {
      "cell_type": "markdown",
      "metadata": {
        "id": "AuCidc7iDSSU"
      },
      "source": [
        "##**Data Transformation / Feature Engineering**"
      ]
    },
    {
      "cell_type": "markdown",
      "metadata": {
        "id": "FZzE9NONCk_I"
      },
      "source": [
        "####Features Engineering Functions"
      ]
    },
    {
      "cell_type": "code",
      "metadata": {
        "id": "D-GGiXlKopKc"
      },
      "source": [
        "def url_length(column):\n",
        "  return pd.Series([len(i) for i in column])"
      ],
      "execution_count": null,
      "outputs": []
    },
    {
      "cell_type": "code",
      "metadata": {
        "id": "1CYdFNiAe_8j"
      },
      "source": [
        "def at_present(column):\n",
        "  return pd.Series([ 1 if i.find(\"@\") == -1 else -1 for i in column ])"
      ],
      "execution_count": null,
      "outputs": []
    },
    {
      "cell_type": "code",
      "metadata": {
        "id": "Zw_C0Ujeg2e-"
      },
      "source": [
        "def dash_present(column):\n",
        "  return pd.Series([ 1 if i.find(\"-\") == -1 else -1 for i in column ])"
      ],
      "execution_count": null,
      "outputs": []
    },
    {
      "cell_type": "code",
      "metadata": {
        "id": "SvRfnqjihjN-"
      },
      "source": [
        "def redirect_present(column):\n",
        "  flags = []\n",
        "  for i in column:\n",
        "    if i.find(\"https://\") != -1 :\n",
        "      i.replace(\"https://\",\"\")\n",
        "    if i.find(\"http://\") != -1 :\n",
        "      i.replace(\"https://\",\"\")\n",
        "    if i.find(\"//\") != -1:\n",
        "      flags.append(-1)\n",
        "    else:\n",
        "      flags.append(1)  \n",
        "  return pd.Series(flags)"
      ],
      "execution_count": null,
      "outputs": []
    },
    {
      "cell_type": "code",
      "metadata": {
        "id": "HyOLePmkVQDx"
      },
      "source": [
        "def check_domain_length(column):\n",
        "  flags = []\n",
        "  for i in column:\n",
        "    parsed_url = parser.urlparse(i)\n",
        "    # Calculating log to normalize the length and make it comparable to other features\n",
        "    # flags.append(np.log(len(parsed_url.netloc)))\n",
        "    flags.append(len(parsed_url.netloc))\n",
        "  return pd.Series(flags)"
      ],
      "execution_count": null,
      "outputs": []
    },
    {
      "cell_type": "code",
      "metadata": {
        "id": "0Z8C2GWDzuLb"
      },
      "source": [
        "def no_of_subdomains(column):\n",
        "  flags = []\n",
        "  for i in column:\n",
        "    parsed_url = tldextract.extract(i)\n",
        "    flags.append(len(parsed_url.subdomain.split(\".\")))\n",
        "  return pd.Series(flags)"
      ],
      "execution_count": null,
      "outputs": []
    },
    {
      "cell_type": "markdown",
      "metadata": {
        "id": "bVFZQDg7DJml"
      },
      "source": [
        "####Feature Engineering Execution\n",
        "\n",
        "We extract these features from the prepared datasets. We managed to extract 8 different features which can be used to identify phishing website. those feature are extracted by using these resources as point of reference.\n",
        "\n",
        "References:\n",
        "\n",
        "1. [Kaggle Dataset 1](https://www.kaggle.com/akashkr/phishing-website-dataset)\n",
        "2. [Kaggle Dataset 2](https://www.kaggle.com/aman9d/phishing-data)\n",
        "3. [Research Paper 1](http://nebula.wsimg.com/27a75d1c7f1236136e4ea756cb01c68c?AccessKeyId=80712B55A173CC042F8D&disposition=0&alloworigin=1) "
      ]
    },
    {
      "cell_type": "code",
      "metadata": {
        "id": "6kpYtWANDwfZ"
      },
      "source": [
        "dataset[\"url_length\"] = url_length(dataset.url)\n",
        "dataset[\"at_present\"] = at_present(dataset.url)\n",
        "dataset[\"dash_present\"] = dash_present(dataset.url)\n",
        "dataset[\"redirect_present\"] = redirect_present(dataset.url)\n",
        "dataset[\"check_domain_length\"] = check_domain_length(dataset.url) #\n",
        "dataset[\"no_of_subdomains\"] = no_of_subdomains(dataset.url)"
      ],
      "execution_count": null,
      "outputs": []
    },
    {
      "cell_type": "markdown",
      "metadata": {
        "id": "A9E7g-XSZ5R6"
      },
      "source": [
        "1637108946.134948\n"
      ]
    },
    {
      "cell_type": "code",
      "metadata": {
        "id": "d_qRVXglPVew",
        "colab": {
          "base_uri": "https://localhost:8080/",
          "height": 444
        },
        "outputId": "91aa47a0-3336-44da-b330-539b93bbf6b2"
      },
      "source": [
        "dataset"
      ],
      "execution_count": null,
      "outputs": [
        {
          "output_type": "execute_result",
          "data": {
            "text/html": [
              "<div>\n",
              "<style scoped>\n",
              "    .dataframe tbody tr th:only-of-type {\n",
              "        vertical-align: middle;\n",
              "    }\n",
              "\n",
              "    .dataframe tbody tr th {\n",
              "        vertical-align: top;\n",
              "    }\n",
              "\n",
              "    .dataframe thead th {\n",
              "        text-align: right;\n",
              "    }\n",
              "</style>\n",
              "<table border=\"1\" class=\"dataframe\">\n",
              "  <thead>\n",
              "    <tr style=\"text-align: right;\">\n",
              "      <th></th>\n",
              "      <th>url</th>\n",
              "      <th>label</th>\n",
              "      <th>url_length</th>\n",
              "      <th>at_present</th>\n",
              "      <th>dash_present</th>\n",
              "      <th>redirect_present</th>\n",
              "      <th>check_domain_length</th>\n",
              "      <th>no_of_subdomains</th>\n",
              "    </tr>\n",
              "  </thead>\n",
              "  <tbody>\n",
              "    <tr>\n",
              "      <th>0</th>\n",
              "      <td>http://creditiperhabbogratissicuro100.blogspot...</td>\n",
              "      <td>1</td>\n",
              "      <td>95</td>\n",
              "      <td>1</td>\n",
              "      <td>-1</td>\n",
              "      <td>-1</td>\n",
              "      <td>43</td>\n",
              "      <td>1</td>\n",
              "    </tr>\n",
              "    <tr>\n",
              "      <th>1</th>\n",
              "      <td>http://www.habbocreditosparati.blogspot.com/</td>\n",
              "      <td>1</td>\n",
              "      <td>44</td>\n",
              "      <td>1</td>\n",
              "      <td>1</td>\n",
              "      <td>-1</td>\n",
              "      <td>36</td>\n",
              "      <td>2</td>\n",
              "    </tr>\n",
              "    <tr>\n",
              "      <th>2</th>\n",
              "      <td>http://leadsdubai.com/~thescien/mad/5cec92b61f...</td>\n",
              "      <td>1</td>\n",
              "      <td>69</td>\n",
              "      <td>1</td>\n",
              "      <td>1</td>\n",
              "      <td>-1</td>\n",
              "      <td>14</td>\n",
              "      <td>1</td>\n",
              "    </tr>\n",
              "    <tr>\n",
              "      <th>3</th>\n",
              "      <td>http://philippe.rubio.perso.sfr.fr/cheeses.html</td>\n",
              "      <td>1</td>\n",
              "      <td>47</td>\n",
              "      <td>1</td>\n",
              "      <td>1</td>\n",
              "      <td>-1</td>\n",
              "      <td>27</td>\n",
              "      <td>3</td>\n",
              "    </tr>\n",
              "    <tr>\n",
              "      <th>4</th>\n",
              "      <td>https://www.drivehq.com/file/DFPublishFile.asp...</td>\n",
              "      <td>1</td>\n",
              "      <td>91</td>\n",
              "      <td>1</td>\n",
              "      <td>1</td>\n",
              "      <td>-1</td>\n",
              "      <td>15</td>\n",
              "      <td>1</td>\n",
              "    </tr>\n",
              "    <tr>\n",
              "      <th>...</th>\n",
              "      <td>...</td>\n",
              "      <td>...</td>\n",
              "      <td>...</td>\n",
              "      <td>...</td>\n",
              "      <td>...</td>\n",
              "      <td>...</td>\n",
              "      <td>...</td>\n",
              "      <td>...</td>\n",
              "    </tr>\n",
              "    <tr>\n",
              "      <th>1845807</th>\n",
              "      <td>www.freewebs.com/ryanrules2/</td>\n",
              "      <td>0</td>\n",
              "      <td>28</td>\n",
              "      <td>1</td>\n",
              "      <td>1</td>\n",
              "      <td>1</td>\n",
              "      <td>0</td>\n",
              "      <td>1</td>\n",
              "    </tr>\n",
              "    <tr>\n",
              "      <th>1845808</th>\n",
              "      <td>www.ireland-information.com/freecelticfonts.htm</td>\n",
              "      <td>0</td>\n",
              "      <td>47</td>\n",
              "      <td>1</td>\n",
              "      <td>-1</td>\n",
              "      <td>1</td>\n",
              "      <td>0</td>\n",
              "      <td>1</td>\n",
              "    </tr>\n",
              "    <tr>\n",
              "      <th>1845809</th>\n",
              "      <td>www.clubtaunus.soroptimist.de/img/pro/e.php</td>\n",
              "      <td>1</td>\n",
              "      <td>43</td>\n",
              "      <td>1</td>\n",
              "      <td>1</td>\n",
              "      <td>1</td>\n",
              "      <td>0</td>\n",
              "      <td>2</td>\n",
              "    </tr>\n",
              "    <tr>\n",
              "      <th>1845810</th>\n",
              "      <td>www.askmen.com/sports/business/index.html</td>\n",
              "      <td>0</td>\n",
              "      <td>41</td>\n",
              "      <td>1</td>\n",
              "      <td>1</td>\n",
              "      <td>1</td>\n",
              "      <td>0</td>\n",
              "      <td>1</td>\n",
              "    </tr>\n",
              "    <tr>\n",
              "      <th>1845811</th>\n",
              "      <td>xosothudo.com.vn/paypal.co.il/paypal.co.il.cgi...</td>\n",
              "      <td>1</td>\n",
              "      <td>323</td>\n",
              "      <td>1</td>\n",
              "      <td>-1</td>\n",
              "      <td>1</td>\n",
              "      <td>0</td>\n",
              "      <td>1</td>\n",
              "    </tr>\n",
              "  </tbody>\n",
              "</table>\n",
              "<p>1845812 rows × 8 columns</p>\n",
              "</div>"
            ],
            "text/plain": [
              "                                                       url  ...  no_of_subdomains\n",
              "0        http://creditiperhabbogratissicuro100.blogspot...  ...                 1\n",
              "1             http://www.habbocreditosparati.blogspot.com/  ...                 2\n",
              "2        http://leadsdubai.com/~thescien/mad/5cec92b61f...  ...                 1\n",
              "3          http://philippe.rubio.perso.sfr.fr/cheeses.html  ...                 3\n",
              "4        https://www.drivehq.com/file/DFPublishFile.asp...  ...                 1\n",
              "...                                                    ...  ...               ...\n",
              "1845807                       www.freewebs.com/ryanrules2/  ...                 1\n",
              "1845808    www.ireland-information.com/freecelticfonts.htm  ...                 1\n",
              "1845809        www.clubtaunus.soroptimist.de/img/pro/e.php  ...                 2\n",
              "1845810          www.askmen.com/sports/business/index.html  ...                 1\n",
              "1845811  xosothudo.com.vn/paypal.co.il/paypal.co.il.cgi...  ...                 1\n",
              "\n",
              "[1845812 rows x 8 columns]"
            ]
          },
          "metadata": {},
          "execution_count": 16
        }
      ]
    },
    {
      "cell_type": "markdown",
      "metadata": {
        "id": "JsxDntKfEAIo"
      },
      "source": [
        "##**Model Selection and Training**"
      ]
    },
    {
      "cell_type": "code",
      "metadata": {
        "id": "kAnWKyaUaIb5",
        "colab": {
          "base_uri": "https://localhost:8080/",
          "height": 300
        },
        "outputId": "fbbc3160-0ad6-4d95-ab24-3ab79132c15d"
      },
      "source": [
        "dataset.describe()"
      ],
      "execution_count": null,
      "outputs": [
        {
          "output_type": "execute_result",
          "data": {
            "text/html": [
              "<div>\n",
              "<style scoped>\n",
              "    .dataframe tbody tr th:only-of-type {\n",
              "        vertical-align: middle;\n",
              "    }\n",
              "\n",
              "    .dataframe tbody tr th {\n",
              "        vertical-align: top;\n",
              "    }\n",
              "\n",
              "    .dataframe thead th {\n",
              "        text-align: right;\n",
              "    }\n",
              "</style>\n",
              "<table border=\"1\" class=\"dataframe\">\n",
              "  <thead>\n",
              "    <tr style=\"text-align: right;\">\n",
              "      <th></th>\n",
              "      <th>label</th>\n",
              "      <th>url_length</th>\n",
              "      <th>at_present</th>\n",
              "      <th>dash_present</th>\n",
              "      <th>redirect_present</th>\n",
              "      <th>check_domain_length</th>\n",
              "      <th>no_of_subdomains</th>\n",
              "    </tr>\n",
              "  </thead>\n",
              "  <tbody>\n",
              "    <tr>\n",
              "      <th>count</th>\n",
              "      <td>1.845812e+06</td>\n",
              "      <td>1.845812e+06</td>\n",
              "      <td>1.845812e+06</td>\n",
              "      <td>1.845812e+06</td>\n",
              "      <td>1.845812e+06</td>\n",
              "      <td>1.845812e+06</td>\n",
              "      <td>1.845812e+06</td>\n",
              "    </tr>\n",
              "    <tr>\n",
              "      <th>mean</th>\n",
              "      <td>5.781488e-01</td>\n",
              "      <td>6.547065e+01</td>\n",
              "      <td>9.715941e-01</td>\n",
              "      <td>1.431121e-01</td>\n",
              "      <td>-3.036561e-01</td>\n",
              "      <td>1.457124e+01</td>\n",
              "      <td>1.223661e+00</td>\n",
              "    </tr>\n",
              "    <tr>\n",
              "      <th>std</th>\n",
              "      <td>4.938551e-01</td>\n",
              "      <td>7.914422e+01</td>\n",
              "      <td>2.366537e-01</td>\n",
              "      <td>9.897068e-01</td>\n",
              "      <td>9.527820e-01</td>\n",
              "      <td>1.420392e+01</td>\n",
              "      <td>8.542670e-01</td>\n",
              "    </tr>\n",
              "    <tr>\n",
              "      <th>min</th>\n",
              "      <td>0.000000e+00</td>\n",
              "      <td>1.000000e+00</td>\n",
              "      <td>-1.000000e+00</td>\n",
              "      <td>-1.000000e+00</td>\n",
              "      <td>-1.000000e+00</td>\n",
              "      <td>0.000000e+00</td>\n",
              "      <td>1.000000e+00</td>\n",
              "    </tr>\n",
              "    <tr>\n",
              "      <th>25%</th>\n",
              "      <td>0.000000e+00</td>\n",
              "      <td>3.400000e+01</td>\n",
              "      <td>1.000000e+00</td>\n",
              "      <td>-1.000000e+00</td>\n",
              "      <td>-1.000000e+00</td>\n",
              "      <td>0.000000e+00</td>\n",
              "      <td>1.000000e+00</td>\n",
              "    </tr>\n",
              "    <tr>\n",
              "      <th>50%</th>\n",
              "      <td>1.000000e+00</td>\n",
              "      <td>4.900000e+01</td>\n",
              "      <td>1.000000e+00</td>\n",
              "      <td>1.000000e+00</td>\n",
              "      <td>-1.000000e+00</td>\n",
              "      <td>1.500000e+01</td>\n",
              "      <td>1.000000e+00</td>\n",
              "    </tr>\n",
              "    <tr>\n",
              "      <th>75%</th>\n",
              "      <td>1.000000e+00</td>\n",
              "      <td>7.300000e+01</td>\n",
              "      <td>1.000000e+00</td>\n",
              "      <td>1.000000e+00</td>\n",
              "      <td>1.000000e+00</td>\n",
              "      <td>2.200000e+01</td>\n",
              "      <td>1.000000e+00</td>\n",
              "    </tr>\n",
              "    <tr>\n",
              "      <th>max</th>\n",
              "      <td>1.000000e+00</td>\n",
              "      <td>6.553500e+04</td>\n",
              "      <td>1.000000e+00</td>\n",
              "      <td>1.000000e+00</td>\n",
              "      <td>1.000000e+00</td>\n",
              "      <td>2.490000e+02</td>\n",
              "      <td>3.300000e+01</td>\n",
              "    </tr>\n",
              "  </tbody>\n",
              "</table>\n",
              "</div>"
            ],
            "text/plain": [
              "              label    url_length  ...  check_domain_length  no_of_subdomains\n",
              "count  1.845812e+06  1.845812e+06  ...         1.845812e+06      1.845812e+06\n",
              "mean   5.781488e-01  6.547065e+01  ...         1.457124e+01      1.223661e+00\n",
              "std    4.938551e-01  7.914422e+01  ...         1.420392e+01      8.542670e-01\n",
              "min    0.000000e+00  1.000000e+00  ...         0.000000e+00      1.000000e+00\n",
              "25%    0.000000e+00  3.400000e+01  ...         0.000000e+00      1.000000e+00\n",
              "50%    1.000000e+00  4.900000e+01  ...         1.500000e+01      1.000000e+00\n",
              "75%    1.000000e+00  7.300000e+01  ...         2.200000e+01      1.000000e+00\n",
              "max    1.000000e+00  6.553500e+04  ...         2.490000e+02      3.300000e+01\n",
              "\n",
              "[8 rows x 7 columns]"
            ]
          },
          "metadata": {},
          "execution_count": 17
        }
      ]
    },
    {
      "cell_type": "code",
      "metadata": {
        "id": "-lpnyL0nDhca"
      },
      "source": [
        "# Using Skicit-learn to split data into training and testing sets\n",
        "from sklearn.model_selection import train_test_split\n",
        "# Split the data into training and testing sets\n",
        "train_dataset, test_dataset, train_labels, test_labels = train_test_split(dataset.drop(['label','url'], axis = 1), dataset.label, test_size = 0.25, random_state = 42)"
      ],
      "execution_count": null,
      "outputs": []
    },
    {
      "cell_type": "code",
      "metadata": {
        "colab": {
          "base_uri": "https://localhost:8080/"
        },
        "id": "gZo65JfREh7V",
        "outputId": "e25fb9e0-4cc2-46cd-83fc-1aaff2a97090"
      },
      "source": [
        "print('Training Dataset Shape:', train_dataset.shape)\n",
        "print('Training Labels Shape:', train_labels.shape)\n",
        "print('Testing Dataset Shape:', test_dataset.shape)\n",
        "print('Testing Labels Shape:', test_labels.shape)"
      ],
      "execution_count": null,
      "outputs": [
        {
          "output_type": "stream",
          "name": "stdout",
          "text": [
            "Training Dataset Shape: (1384359, 6)\n",
            "Training Labels Shape: (1384359,)\n",
            "Testing Dataset Shape: (461453, 6)\n",
            "Testing Labels Shape: (461453,)\n"
          ]
        }
      ]
    },
    {
      "cell_type": "code",
      "metadata": {
        "colab": {
          "base_uri": "https://localhost:8080/"
        },
        "id": "1SMpZH08etqz",
        "outputId": "83c86992-2f25-47e7-f6bd-15fcce46791d"
      },
      "source": [
        "#LOGISTIC REGRESSION\n",
        "from sklearn.linear_model import LogisticRegression\n",
        "from sklearn.metrics import accuracy_score\n",
        "\n",
        "lr=LogisticRegression()\n",
        "lr.fit(train_dataset,train_labels)\n",
        "pred=lr.predict(test_dataset)\n",
        "accuracy_score(pred,test_labels)"
      ],
      "execution_count": null,
      "outputs": [
        {
          "output_type": "execute_result",
          "data": {
            "text/plain": [
              "0.7074805018062511"
            ]
          },
          "metadata": {},
          "execution_count": 20
        }
      ]
    },
    {
      "cell_type": "code",
      "metadata": {
        "id": "DdEGcJLLgMZs"
      },
      "source": [
        "# Dump the modelinto pickle file\n",
        "import pickle\n",
        "with open('model.pickle', 'wb') as f:\n",
        "    pickle.dump(lr, f)"
      ],
      "execution_count": null,
      "outputs": []
    },
    {
      "cell_type": "markdown",
      "metadata": {
        "id": "xxuu1RdZGjm8"
      },
      "source": [
        "##**Alternate solutions(Not to be considered)**"
      ]
    },
    {
      "cell_type": "code",
      "metadata": {
        "id": "is3uZj4jfZwG"
      },
      "source": [
        "# #RANDOM FOREST CLASSIFIER\n",
        "# # Method2:\n",
        "# forest_clf = RandomForestClassifier(bootstrap=False,max_depth=20,max_features='auto',min_samples_leaf=1,min_samples_split=2,n_estimators=1800)\n",
        "# forest_clf.fit(train_dataset,train_labels)\n",
        "# ran_pred=forest_clf.predict(test_dataset)\n",
        "# accuracy_score(ran_pred,test_labels)"
      ],
      "execution_count": null,
      "outputs": []
    },
    {
      "cell_type": "markdown",
      "metadata": {
        "id": "X8zoteOYK-aw"
      },
      "source": [
        "Alternate Approach to clean dataset1 & dataset2"
      ]
    },
    {
      "cell_type": "code",
      "metadata": {
        "id": "diSnXoDlZnzy"
      },
      "source": [
        "# filename = \"ALL-phishing-links\"\n",
        "# file = tarfile.open(filename+'.tar.gz')\n",
        "# file.extractall(\"./github_data\")\n",
        "# file.close()\n",
        "# df = pd.read_csv('./github_data/'+filename+'.txt', delimiter = \"\\n\")\n",
        "# f = open(\"./github_data/\"+filename+\".txt\", \"r\")\n",
        "# l = f.readlines()\n",
        "# new_list = []\n",
        "# z = []\n",
        "# import re\n",
        "# regex = \"(http|ftp|https):\\/\\/([\\w_-]+(?:(?:\\.[\\w_-]+)+))([\\w.,@?^=%&:\\/~+#-]*[\\w@?^=%&\\/~+#-])\"\n",
        "# # Scheme (HTTP, HTTPS, FTP and SFTP):\n",
        "\n",
        "# for i in l[:20]:\n",
        "#   # print(i)\n",
        "#   matches = re.findall(regex, i)\n",
        "#   print(matches)"
      ],
      "execution_count": null,
      "outputs": []
    },
    {
      "cell_type": "markdown",
      "metadata": {
        "id": "Fq_M2OWlLH39"
      },
      "source": [
        "Alternate method to calculate malicious and benign websiten in combined dataset"
      ]
    },
    {
      "cell_type": "code",
      "metadata": {
        "id": "tW0TLnV9KSZ_"
      },
      "source": [
        "# bad = len(dataset1) + len(dataset2) + len(dataset3[dataset3.result == 1]) + len(dataset4[dataset4.Label == \"bad\"]) + len(dataset5[dataset5.label == 1])\n",
        "# good = len(dataset3[dataset3.result == 0]) + len(dataset4[dataset4.Label == \"good\"]) + len(dataset5[dataset5.label == 0])\n",
        "# df = pd.read_csv(\"./phish_score.csv\",skiprows=9,names=[\"Date\",\"Score\",\"URL\",\"IP\"])"
      ],
      "execution_count": null,
      "outputs": []
    },
    {
      "cell_type": "markdown",
      "metadata": {
        "id": "QGg5SflJLYPJ"
      },
      "source": [
        "Alternate method to retrieve dataset at predifined path [Reference](https://www.tecmint.com/wget-download-file-to-specific-directory/)"
      ]
    },
    {
      "cell_type": "code",
      "metadata": {
        "id": "38EoINrKKsRQ"
      },
      "source": [
        "# !wget https://raw.githubusercontent.com/mitchellkrogza/Phishing.Database/master/ALL-phishing-links.tar.gz -P /datasets/\n",
        "# !wget https://phishstats.info/phish_score.csv -P /dataset/"
      ],
      "execution_count": null,
      "outputs": []
    },
    {
      "cell_type": "markdown",
      "metadata": {
        "id": "q3pCqSM3N4wt"
      },
      "source": [
        "Alternate to find domain length"
      ]
    },
    {
      "cell_type": "code",
      "metadata": {
        "id": "UIJxs_x0N5PE"
      },
      "source": [
        "# def len_sub_domain(column):\n",
        "#   flags = []\n",
        "#   for i in column:\n",
        "#     i.replace(\"https://\",\"\")\n",
        "#     i.replace(\"http://\",\"\")\n",
        "#     l = i.split(\"/\")[0]\n",
        "#     print(l,len(l))\n",
        "#     flags.append(len(l))\n",
        "#   return pd.Series(flags)"
      ],
      "execution_count": null,
      "outputs": []
    },
    {
      "cell_type": "code",
      "metadata": {
        "id": "4sEWLdEPuA04"
      },
      "source": [
        "# # TRY THIS RANDOM FOREST CLASSIFIER\n",
        "# # Method1:\n",
        "# from sklearn.ensemble import RandomForestClassifier\n",
        "# from sklearn.metrics import accuracy_score\n",
        "# forest_clf = RandomForestClassifier(max_depth=1000, random_state=0)\n",
        "# forest_clf.fit(train_dataset,train_labels)\n",
        "# ran_pred=forest_clf.predict(test_dataset)\n",
        "# accuracy_score(ran_pred,test_labels)"
      ],
      "execution_count": null,
      "outputs": []
    },
    {
      "cell_type": "code",
      "metadata": {
        "id": "oWjddOZ2E3XX"
      },
      "source": [
        "# # The baseline predictions are the historical averages\n",
        "# baseline_preds = test_dataset['url_length']\n",
        "# # Baseline errors, and display average baseline error\n",
        "# baseline_errors = abs(baseline_preds - test_labels)\n",
        "# print('Average baseline error: ', round(np.mean(baseline_errors), 2))"
      ],
      "execution_count": null,
      "outputs": []
    }
  ]
}